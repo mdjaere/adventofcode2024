{
 "cells": [
  {
   "cell_type": "code",
   "execution_count": null,
   "metadata": {},
   "outputs": [],
   "source": [
    "infile = \"input\"\n",
    "lines = [line.strip() for line in open(infile)]"
   ]
  }
 ],
 "metadata": {
  "kernelspec": {
   "display_name": "Python 3.9.7 ('base')",
   "language": "python",
   "name": "python3"
  },
  "language_info": {
   "name": "python",
   "version": "3.9.7"
  },
  "orig_nbformat": 4,
  "vscode": {
   "interpreter": {
    "hash": "25b9408291d6e02a991de60c77e33a0ea9dd30a3167c33e8864857309fab9930"
   }
  }
 },
 "nbformat": 4,
 "nbformat_minor": 2
}
